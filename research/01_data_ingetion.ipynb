{
 "cells": [
  {
   "cell_type": "code",
   "execution_count": 2,
   "metadata": {},
   "outputs": [
    {
     "ename": "SyntaxError",
     "evalue": "(unicode error) 'unicodeescape' codec can't decode bytes in position 2-3: truncated \\UXXXXXXXX escape (3542266973.py, line 6)",
     "output_type": "error",
     "traceback": [
      "\u001b[1;36m  Input \u001b[1;32mIn [2]\u001b[1;36m\u001b[0m\n\u001b[1;33m    os.environ[\"KAGGLE_KEY\"] = \"C:\\Users\\lenovo\\.kaggle\"\u001b[0m\n\u001b[1;37m                               ^\u001b[0m\n\u001b[1;31mSyntaxError\u001b[0m\u001b[1;31m:\u001b[0m (unicode error) 'unicodeescape' codec can't decode bytes in position 2-3: truncated \\UXXXXXXXX escape\n"
     ]
    }
   ],
   "source": [
    "import os\n",
    "from kaggle.api.kaggle_api_extended import KaggleApi\n",
    "\n",
    "# Set the path to your Kaggle API credentials JSON file\n",
    "os.environ[\"KAGGLE_USERNAME\"] = \"dragwarriorgaming\"\n",
    "os.environ[\"KAGGLE_KEY\"] = \"C:\\\\Users\\\\lenovo\\\\.kaggle\\\\kaggle.json\"\n",
    "\n",
    "# Instantiate the Kaggle API\n",
    "api = KaggleApi()\n",
    "\n",
    "# Specify the dataset you want to download\n",
    "dataset_slug = \"kaggle datasets download -d fedesoriano/the-boston-houseprice-data\"\n",
    "\n",
    "# Set the output directory for the downloaded dataset\n",
    "output_dir = os.getcwd()\n",
    "\n",
    "# Download the dataset\n",
    "api.dataset_download_files(dataset_slug, path=output_dir, unzip=True)\n"
   ]
  },
  {
   "cell_type": "code",
   "execution_count": null,
   "metadata": {},
   "outputs": [],
   "source": []
  }
 ],
 "metadata": {
  "kernelspec": {
   "display_name": "Python 3",
   "language": "python",
   "name": "python3"
  },
  "language_info": {
   "codemirror_mode": {
    "name": "ipython",
    "version": 3
   },
   "file_extension": ".py",
   "mimetype": "text/x-python",
   "name": "python",
   "nbconvert_exporter": "python",
   "pygments_lexer": "ipython3",
   "version": "3.8.16"
  },
  "orig_nbformat": 4
 },
 "nbformat": 4,
 "nbformat_minor": 2
}
